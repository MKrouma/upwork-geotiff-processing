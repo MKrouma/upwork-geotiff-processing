{
 "cells": [
  {
   "cell_type": "markdown",
   "metadata": {},
   "source": [
    "# Mchakato \n",
    "Mchakato, is a geodata processing to have elevation data. "
   ]
  },
  {
   "cell_type": "markdown",
   "metadata": {},
   "source": [
    "Here, I fetch the dataset manually from https://sentinels.copernicus.eu/web/sentinel/-/copernicus-dem-new-direct-data-download-access"
   ]
  },
  {
   "cell_type": "markdown",
   "metadata": {},
   "source": [
    "We could as next step automate this fetching dataset. That's not in the scoop of the client right now."
   ]
  }
 ],
 "metadata": {
  "language_info": {
   "name": "python"
  }
 },
 "nbformat": 4,
 "nbformat_minor": 2
}
