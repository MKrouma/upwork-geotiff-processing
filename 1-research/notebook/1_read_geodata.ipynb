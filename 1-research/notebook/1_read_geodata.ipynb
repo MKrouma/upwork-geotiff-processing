{
 "cells": [
  {
   "cell_type": "markdown",
   "metadata": {},
   "source": [
    "# Mchakato \n",
    "Mchakato, is a geodata processing to have elevation data. "
   ]
  },
  {
   "cell_type": "markdown",
   "metadata": {},
   "source": [
    "Here, I fetch the dataset manually from https://sentinels.copernicus.eu/web/sentinel/-/copernicus-dem-new-direct-data-download-access"
   ]
  },
  {
   "cell_type": "markdown",
   "metadata": {},
   "source": [
    "We could as next step automate this fetching dataset. That's not in the scoop of the client right now."
   ]
  }
 ],
 "metadata": {
  "kernelspec": {
   "display_name": ".env",
   "language": "python",
   "name": "python3"
  },
  "language_info": {
   "name": "python",
   "version": "3.10.1"
  }
 },
 "nbformat": 4,
 "nbformat_minor": 2
}
